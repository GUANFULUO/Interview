{
 "cells": [
  {
   "cell_type": "markdown",
   "metadata": {},
   "source": [
    "# CNN\n",
    "\n",
    "## Reference\n",
    "\n",
    "- [从TensorFlow到Theano：横向对比七大深度学习框架](https://zhuanlan.zhihu.com/p/25285133) - 知乎\n",
    "\n",
    "- [卷积神经网络](https://blog.csdn.net/stdcoutzyx/article/details/41596663) - CSDN\n",
    "\n",
    "- [卷积神经网络(CNN)介绍](https://blog.csdn.net/lc013/article/details/80237632) - CSDN\n",
    "\n",
    "- [CNN的反向传播](http://jermmy.xyz/2017/12/16/2017-12-16-cnn-back-propagation/) - Blog\n",
    "\n",
    "- [一文了解各种卷积结构原理及优劣](https://zhuanlan.zhihu.com/p/28186857) - 知乎\n",
    "\n",
    "- [CNN中卷积层的计算细节](https://blog.csdn.net/dcrmg/article/details/79652487) - CSDN\n",
    "\n",
    "- [卷积新用之语言模型](https://blog.csdn.net/stdcoutzyx/article/details/55004458) - CSDN\n",
    "\n",
    "- [基于CNN的阅读理解式问答模型：DGCNN](https://kexue.fm/archives/5409#%E9%97%A8%E6%9C%BA%E5%88%B6) - 科学空间"
   ]
  }
 ],
 "metadata": {
  "kernelspec": {
   "display_name": "Python 3",
   "language": "python",
   "name": "python3"
  },
  "language_info": {
   "codemirror_mode": {
    "name": "ipython",
    "version": 3
   },
   "file_extension": ".py",
   "mimetype": "text/x-python",
   "name": "python",
   "nbconvert_exporter": "python",
   "pygments_lexer": "ipython3",
   "version": "3.5.4"
  }
 },
 "nbformat": 4,
 "nbformat_minor": 1
}
