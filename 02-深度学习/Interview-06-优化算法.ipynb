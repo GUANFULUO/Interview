{
 "cells": [
  {
   "cell_type": "markdown",
   "metadata": {},
   "source": [
    "# 优化算法\n",
    "\n",
    "## 1. 梯度下降\n",
    "\n",
    "## 2. 随机梯度下降（SGD）\n",
    "\n",
    "### 小批量随机梯度下降\n",
    "\n",
    "### 小批量 SGD 的更新过程\n",
    "\n",
    "### “批”的大小对优化效果的影响\n",
    "\n",
    "### 随机梯度下降存在的问题\n",
    "\n",
    "### 随机梯度下降的改进方向\n",
    "\n",
    "## 3. 自适应学习率的优化算法\n",
    "\n",
    "### AdaGrad\n",
    "\n",
    "### RMSProp\n",
    "\n",
    "### AdaDelta\n",
    "\n",
    "### Adam\n",
    "\n",
    "### AdaMax\n",
    "\n",
    "### Nadam\n",
    "\n",
    "### 如何选择这些优化算法？\n",
    "\n",
    "## Reference\n",
    "\n",
    "- [常见的几种最优化方法（梯度下降法、牛顿法、拟牛顿法、共轭梯度法等）](https://www.cnblogs.com/shixiangwan/p/7532830.html) - 博客园\n",
    "\n",
    "- []()"
   ]
  }
 ],
 "metadata": {
  "kernelspec": {
   "display_name": "Python 3",
   "language": "python",
   "name": "python3"
  },
  "language_info": {
   "codemirror_mode": {
    "name": "ipython",
    "version": 3
   },
   "file_extension": ".py",
   "mimetype": "text/x-python",
   "name": "python",
   "nbconvert_exporter": "python",
   "pygments_lexer": "ipython3",
   "version": "3.5.4"
  }
 },
 "nbformat": 4,
 "nbformat_minor": 1
}
