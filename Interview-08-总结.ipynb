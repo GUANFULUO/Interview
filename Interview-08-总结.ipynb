{
 "cells": [
  {
   "cell_type": "markdown",
   "metadata": {},
   "source": [
    "## 梯度爆炸的解决办法 `***`\n",
    "\n",
    "1. 梯度截断（gradient clipping）——如果梯度超过某个阈值，就对其进行限制\n",
    "\n",
    "2. 良好的参数初始化策略也能缓解梯度爆炸问题（权重正则化）\n",
    "\n",
    "3. 使用线性整流激活函数，如 ReLU 等\n",
    "\n",
    "## 神经网络（MLP）的万能近似定理`*`\n",
    "\n",
    "一个前馈神经网络如果具有至少一个非线性输出层，那么只要给予网络足够数量的隐藏单元，它就可以以任意的精度来近似任何从一个有限维空间到另一个有限维空间的函数。\n",
    "\n",
    "## 神经网络中，深度与宽度的关系，及其表示能力的差异`**`\n",
    "\n",
    "\n",
    "## Reference\n",
    "\n",
    "- [详解机器学习中的梯度消失、爆炸原因及其解决方法](https://blog.csdn.net/qq_25737169/article/details/78847691) - CSDN\n",
    "\n",
    "- []()"
   ]
  },
  {
   "cell_type": "code",
   "execution_count": null,
   "metadata": {
    "collapsed": true
   },
   "outputs": [],
   "source": []
  }
 ],
 "metadata": {
  "kernelspec": {
   "display_name": "Python 3",
   "language": "python",
   "name": "python3"
  },
  "language_info": {
   "codemirror_mode": {
    "name": "ipython",
    "version": 3
   },
   "file_extension": ".py",
   "mimetype": "text/x-python",
   "name": "python",
   "nbconvert_exporter": "python",
   "pygments_lexer": "ipython3",
   "version": "3.5.4"
  }
 },
 "nbformat": 4,
 "nbformat_minor": 1
}
