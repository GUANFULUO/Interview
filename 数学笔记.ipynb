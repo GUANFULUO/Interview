{
 "cells": [
  {
   "cell_type": "markdown",
   "metadata": {},
   "source": [
    "## 指数的性质\n",
    "\n",
    "<img src=\"source/指数的性质.png\">\n",
    "\n",
    "<img src=\"source/指数的性质-1.png\">\n",
    "\n",
    "## 对数的性质\n",
    "\n",
    "<img src=\"source/对数的性质.png\">\n",
    "\n",
    "<img src=\"source/对数的性质-1.png\">\n",
    "\n",
    "## 导数基本公式\n",
    "\n",
    "<img src=\"source/导数基本公式.png\">\n",
    "\n",
    "\n",
    "## 导数的四则运算法则\n",
    "\n",
    "<img src=\"source/导数的四则运算法则.png\">\n",
    "\n",
    "## 复合函数求导法则\n",
    "\n",
    "<img src=\"source/复合函数求导法则.png\">\n",
    "\n",
    "## 积分，不定积分和定积分的区别\n",
    "\n",
    "TODO\n",
    "\n",
    "## 基本积分公式\n",
    "\n",
    "<img src=\"source/基本积分公式.png\">\n",
    "\n",
    "<img src=\"source/基本积分公式-1.png\">\n",
    "\n",
    "## 积分的基本运算法则\n",
    "\n",
    "<img src=\"source/积分基本运算法则.png\">\n",
    "\n",
    "## 怎么判断一个函数是否存在极限\n",
    "\n",
    "- 存在左右极限且左极限等于右极限\n",
    "- 函数连续\n",
    "- 函数的值等于该点处极限值"
   ]
  },
  {
   "cell_type": "code",
   "execution_count": null,
   "metadata": {
    "collapsed": true
   },
   "outputs": [],
   "source": []
  },
  {
   "cell_type": "code",
   "execution_count": null,
   "metadata": {
    "collapsed": true
   },
   "outputs": [],
   "source": []
  },
  {
   "cell_type": "markdown",
   "metadata": {},
   "source": [
    "## Reference\n",
    "\n",
    "- [数学笔记——导数5（指数函数和对数函数的导数）](https://blog.csdn.net/sunbobosun56801/article/details/77892409) - CSDN\n",
    "\n",
    "- [常用导数+积分公式](https://blog.csdn.net/MyArrow/article/details/51187712) - CSDN"
   ]
  }
 ],
 "metadata": {
  "kernelspec": {
   "display_name": "Python 3",
   "language": "python",
   "name": "python3"
  },
  "language_info": {
   "codemirror_mode": {
    "name": "ipython",
    "version": 3
   },
   "file_extension": ".py",
   "mimetype": "text/x-python",
   "name": "python",
   "nbconvert_exporter": "python",
   "pygments_lexer": "ipython3",
   "version": "3.5.4"
  }
 },
 "nbformat": 4,
 "nbformat_minor": 1
}
