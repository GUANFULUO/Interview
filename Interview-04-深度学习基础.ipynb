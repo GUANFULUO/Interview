{
 "cells": [
  {
   "cell_type": "markdown",
   "metadata": {},
   "source": [
    "# 1. 生成对抗网络\n",
    "\n",
    "\n",
    "## Reference\n",
    "\n",
    "- [最简单易懂的GAN（生成对抗网络）教程：从理论到实践（附代码）](https://www.leiphone.com/news/201706/ty7H504cn7l6EVLd.html) - 雷锋网\n",
    "\n",
    "- []()"
   ]
  },
  {
   "cell_type": "markdown",
   "metadata": {},
   "source": [
    "# 2. 反向传播算法\n",
    "\n",
    "\n",
    "## Reference\n",
    "\n",
    "- [反向传播算法（过程及公式推导）](https://blog.csdn.net/u014313009/article/details/51039334) - CSDN\n",
    "\n",
    "- [神经网络（全连接）的前向和反向传播](https://zhuanlan.zhihu.com/p/34378516) - 知乎\n"
   ]
  },
  {
   "cell_type": "markdown",
   "metadata": {},
   "source": [
    "# 3. 正则化\n",
    "\n",
    "\n",
    "## Reference\n",
    "\n",
    "- [机器学习——标准化/归一化的目的和作用](https://blog.csdn.net/zenghaitao0128/article/details/78361038) - CSDN\n",
    "\n",
    "- []()"
   ]
  },
  {
   "cell_type": "markdown",
   "metadata": {},
   "source": [
    "# 4. BN（批标准化）\n",
    "\n",
    "\n",
    "## Reference\n",
    "\n",
    "- [批量标准化(BN)、实例标准化(IN)、特征标准化(FN)](https://blog.csdn.net/mzpmzk/article/details/80043076) - CSDN\n",
    "\n",
    "- [什么是批标准化 (Batch Normalization)](https://zhuanlan.zhihu.com/p/24810318) - 知乎\n",
    "\n",
    "- [【深度学习】深入理解Batch Normalization批标准化](https://www.cnblogs.com/guoyaohua/p/8724433.html) - 博客园\n",
    "\n",
    "- [深度学习中批归一化的陷阱](http://ai.51cto.com/art/201705/540230.htm) - 51CTO\n",
    "\n",
    "- [机器学习中正则化项L1和L2的直观理解](https://blog.csdn.net/jinping_shi/article/details/52433975) - CSDN\n",
    "\n"
   ]
  },
  {
   "cell_type": "code",
   "execution_count": null,
   "metadata": {
    "collapsed": true
   },
   "outputs": [],
   "source": []
  }
 ],
 "metadata": {
  "kernelspec": {
   "display_name": "Python 3",
   "language": "python",
   "name": "python3"
  },
  "language_info": {
   "codemirror_mode": {
    "name": "ipython",
    "version": 3
   },
   "file_extension": ".py",
   "mimetype": "text/x-python",
   "name": "python",
   "nbconvert_exporter": "python",
   "pygments_lexer": "ipython3",
   "version": "3.5.4"
  }
 },
 "nbformat": 4,
 "nbformat_minor": 1
}
